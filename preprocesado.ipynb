{
 "cells": [
  {
   "cell_type": "code",
   "execution_count": 27,
   "id": "31762332-93a6-4743-a646-2625158fce4f",
   "metadata": {
    "tags": []
   },
   "outputs": [],
   "source": [
    "from sklearn.preprocessing import StandardScaler, OneHotEncoder\n",
    "from sklearn.compose import ColumnTransformer\n",
    "from sklearn.pipeline import Pipeline\n",
    "import pandas as pd\n",
    "import numpy as np  \n",
    "\n",
    "# Cargar los datos\n",
    "df = pd.read_csv('bank-additional-full.csv', sep=';')\n",
    "\n",
    "# Eliminar filas con valores nulos\n",
    "df_clean = df.dropna().copy()\n",
    "\n",
    "# Separar características y variable objetivo\n",
    "X = df_clean.drop('y', axis=1)\n",
    "y = df_clean['y']\n",
    "\n",
    "# Columnas numéricas y categóricas\n",
    "num_features = X.select_dtypes(include=[np.number]).columns\n",
    "cat_features = X.select_dtypes(include=['object']).columns\n",
    "\n",
    "# Preprocesamiento: estandarización y codificación\n",
    "preprocessor = ColumnTransformer(\n",
    "    transformers=[\n",
    "        ('num', StandardScaler(), num_features),\n",
    "        ('cat', OneHotEncoder(), cat_features)\n",
    "    ])\n",
    "\n",
    "# Aplicar transformaciones al dataset\n",
    "X_preprocessed = preprocessor.fit_transform(X)\n",
    "y_encoded = y.map({'no': 0, 'yes': 1})\n",
    "\n",
    "# Guardar los datos preprocesados para el modelo\n",
    "pd.DataFrame(X_preprocessed).to_csv('X_preprocessed.csv', index=False)\n",
    "y_encoded.to_csv('y_encoded.csv', index=False)\n"
   ]
  },
  {
   "cell_type": "code",
   "execution_count": null,
   "id": "5b30f8f3-0b8a-4bfc-9d2a-5bf7a92b4f3e",
   "metadata": {},
   "outputs": [],
   "source": []
  }
 ],
 "metadata": {
  "kernelspec": {
   "display_name": "Python 3 (ipykernel)",
   "language": "python",
   "name": "python3"
  },
  "language_info": {
   "codemirror_mode": {
    "name": "ipython",
    "version": 3
   },
   "file_extension": ".py",
   "mimetype": "text/x-python",
   "name": "python",
   "nbconvert_exporter": "python",
   "pygments_lexer": "ipython3",
   "version": "3.11.5"
  }
 },
 "nbformat": 4,
 "nbformat_minor": 5
}
