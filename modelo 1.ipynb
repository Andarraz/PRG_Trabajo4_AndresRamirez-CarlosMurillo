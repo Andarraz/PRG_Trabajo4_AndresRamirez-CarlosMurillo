{
 "cells": [
  {
   "cell_type": "code",
   "execution_count": null,
   "id": "bb4e82e2-5a4a-4714-a544-5ff5c3a2caa5",
   "metadata": {
    "tags": []
   },
   "outputs": [],
   "source": [
    "import pandas as pd\n",
    "from sklearn.model_selection import train_test_split, GridSearchCV\n",
    "from sklearn.svm import SVC\n",
    "from sklearn.metrics import classification_report, confusion_matrix\n",
    "import matplotlib.pyplot as plt\n",
    "import numpy as np\n",
    "from joblib import dump\n",
    "\n",
    "# Cargar los datos preprocesados\n",
    "X = pd.read_csv('X_preprocessed.csv')\n",
    "y = pd.read_csv('y_encoded.csv')\n",
    "\n",
    "# Dividir los datos en conjuntos de entrenamiento y prueba\n",
    "X_train, X_test, y_train, y_test = train_test_split(X, y, test_size=0.2, random_state=42)\n",
    "\n",
    "# Modelo SVC \n",
    "svc = SVC(probability=True)\n",
    "svc_params = {'kernel': ['linear', 'rbf'], 'C': [1, 10]}\n",
    "svc_grid = GridSearchCV(svc, svc_params, cv=5)\n",
    "svc_grid.fit(X_train, y_train.values.ravel())\n",
    "print(f\"Mejores parámetros para SVC: {svc_grid.best_params_}\")\n",
    "\n",
    "# Evaluación del modelo\n",
    "y_pred_svc = svc_grid.predict(X_test)\n",
    "print(\"Informe de clasificación para SVC:\")\n",
    "print(classification_report(y_test, y_pred_svc))\n",
    "print(\"Matriz de confusión para SVC:\")\n",
    "print(confusion_matrix(y_test, y_pred_svc))\n",
    "\n",
    "# Curva de aprendizaje\n",
    "def plot_learning_curve(estimator, X, y, title):\n",
    "    from sklearn.model_selection import learning_curve\n",
    "    train_sizes, train_scores, test_scores = learning_curve(estimator, X, y, cv=5)\n",
    "    train_scores_mean = np.mean(train_scores, axis=1)\n",
    "    test_scores_mean = np.mean(test_scores, axis=1)\n",
    "\n",
    "    plt.plot(train_sizes, train_scores_mean, 'o-', label='Puntaje de entrenamiento')\n",
    "    plt.plot(train_sizes, test_scores_mean, 'o-', label='Puntaje de validación cruzada')\n",
    "    plt.title(title)\n",
    "    plt.xlabel('Ejemplos de entrenamiento')\n",
    "    plt.ylabel('Puntaje')\n",
    "    plt.legend(loc='best')\n",
    "    plt.grid()\n",
    "    plt.show()\n",
    "\n",
    "plot_learning_curve(svc_grid.best_estimator_, X_train, y_train.values.ravel(), 'Curva de aprendizaje para SVC')\n",
    "\n",
    "# Guardar el modelo SVC\n",
    "dump(svc_grid, 'svc_model.joblib')\n"
   ]
  },
  {
   "cell_type": "code",
   "execution_count": null,
   "id": "11743771-3723-4962-8526-856778aafcd4",
   "metadata": {},
   "outputs": [],
   "source": []
  }
 ],
 "metadata": {
  "kernelspec": {
   "display_name": "Python 3 (ipykernel)",
   "language": "python",
   "name": "python3"
  },
  "language_info": {
   "codemirror_mode": {
    "name": "ipython",
    "version": 3
   },
   "file_extension": ".py",
   "mimetype": "text/x-python",
   "name": "python",
   "nbconvert_exporter": "python",
   "pygments_lexer": "ipython3",
   "version": "3.11.5"
  }
 },
 "nbformat": 4,
 "nbformat_minor": 5
}
